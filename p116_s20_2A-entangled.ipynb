{
 "cells": [
  {
   "cell_type": "markdown",
   "metadata": {
    "toc": true
   },
   "source": [
    "<h1>Table of Contents<span class=\"tocSkip\"></span></h1>\n",
    "<div class=\"toc\"><ul class=\"toc-item\"><li><span><a href=\"#p116_s20_2A-measurement:-Quantum-enhanced-measurements\" data-toc-modified-id=\"p116_s20_2A-measurement:-Quantum-enhanced-measurements-1\"><span class=\"toc-item-num\">1&nbsp;&nbsp;</span>p116_s20_2A-measurement: Quantum enhanced measurements</a></span><ul class=\"toc-item\"><li><span><a href=\"#Hesienberg-uncertainty\" data-toc-modified-id=\"Hesienberg-uncertainty-1.1\"><span class=\"toc-item-num\">1.1&nbsp;&nbsp;</span>Hesienberg uncertainty</a></span></li><li><span><a href=\"#Mach-Zener-interferometry\" data-toc-modified-id=\"Mach-Zener-interferometry-1.2\"><span class=\"toc-item-num\">1.2&nbsp;&nbsp;</span>Mach-Zener interferometry</a></span></li><li><span><a href=\"#Simplfied-interferometry\" data-toc-modified-id=\"Simplfied-interferometry-1.3\"><span class=\"toc-item-num\">1.3&nbsp;&nbsp;</span>Simplfied interferometry</a></span></li></ul></li><li><span><a href=\"#Entangled-measurements\" data-toc-modified-id=\"Entangled-measurements-2\"><span class=\"toc-item-num\">2&nbsp;&nbsp;</span>Entangled measurements</a></span></li></ul></div>"
   ]
  },
  {
   "cell_type": "markdown",
   "metadata": {
    "slideshow": {
     "slide_type": "slide"
    }
   },
   "source": [
    "# p116_s20_2A-measurement: Quantum enhanced measurements\n",
    "\n",
    "Physics 116: Quantum Information Science\n",
    "\n",
    "Professor Dr. James Whitfield; Teaching Assistant: Mr. Riley Chien\n",
    "\n"
   ]
  },
  {
   "cell_type": "markdown",
   "metadata": {},
   "source": [
    "Today, we're moving from our exploration of Grover's search to topics more in line with the current unit on measurement.  The exercises and examples introduced today will help familiarize you with quantum information technology interfaces and some basic ideas in quantum metrology.  \n",
    "\n",
    "Quantum metrology is the field concerned with extracting information from a quantum system.  We do so using measurements, however this is not the complete story.  The states and observables matter as we shall see.  The enhancement due to the use of entangled states is also quadratic and provides a neat connection to our previous discussions Grover and Grover-like algorithms.\n",
    "\n",
    "A complete discussion of the experimental and theoretical results on quantum metrology are reivewed by Vittorio Giovannetti, Seth Lloyd, Lorenzo Maccone in 2004 <https://arxiv.org/abs/quant-ph/0412078>. A shorter introduction can also be found in 2009 book chapter: https://aip.scitation.org/doi/abs/10.1063/1.3131367 by Sergio Boixo, et al.  "
   ]
  },
  {
   "cell_type": "markdown",
   "metadata": {
    "slideshow": {
     "slide_type": "slide"
    }
   },
   "source": [
    "## Hesienberg uncertainty\n",
    "The Heisenberg uncertainty relation states that when\n",
    "      simultaneously measuring incompatible observables such as\n",
    "      position $x$ and momentum $p$ the product of the spreads is\n",
    "      lower bounded: $\\Delta x\\:\\Delta p\\geq\\hbar/2$."
   ]
  },
  {
   "cell_type": "markdown",
   "metadata": {
    "slideshow": {
     "slide_type": "slide"
    }
   },
   "source": [
    "## Mach-Zener interferometry"
   ]
  },
  {
   "cell_type": "markdown",
   "metadata": {
    "slideshow": {
     "slide_type": "subslide"
    }
   },
   "source": [
    "<img src=\"./figures/p116_s20_2A-intf.png\" style=\"width: 25%;\"/>\n",
    "\n",
    "Information on the\n",
    "phase difference $\\theta$ (due to the sample) between the two optical paths of the\n",
    "interferometer can be extracted by monitoring the two output beams,\n",
    "typically by measuring their intensity (i.e. the photon number)."
   ]
  },
  {
   "cell_type": "markdown",
   "metadata": {
    "slideshow": {
     "slide_type": "subslide"
    }
   },
   "source": [
    "<img src=\"./figures/p116_s20_2A-intf.png\" style=\"width: 25%;\"/>\n",
    "If\n",
    "there is no phase difference $\\theta$, all the photons will exit the\n",
    "apparatus at output 1.  On the other hand, if $\\theta=\\pi$ radians,\n",
    "all the photons will exit at output 2. In the intermediate situations,\n",
    "a fraction $\\cos^2(\\theta/2)$ of the photons will exit at the\n",
    "output 1 and a fraction $\\sin^2(\\theta/2)$ at the output 2."
   ]
  },
  {
   "cell_type": "code",
   "execution_count": 26,
   "metadata": {
    "slideshow": {
     "slide_type": "slide"
    }
   },
   "outputs": [
    {
     "name": "stdout",
     "output_type": "stream",
     "text": [
      "rand theta -0.5822072435322045\n"
     ]
    }
   ],
   "source": [
    "# Useful additional packages \n",
    "import matplotlib.pyplot as plt\n",
    "%matplotlib inline\n",
    "import numpy as np\n",
    "from math import pi\n",
    "from qiskit import QuantumCircuit, ClassicalRegister, QuantumRegister, execute\n",
    "from qiskit.tools.visualization import circuit_drawer\n",
    "from qiskit.quantum_info import state_fidelity\n",
    "from qiskit import BasicAer\n",
    "\n",
    "backend = BasicAer.get_backend('unitary_simulator')\n",
    "\n",
    "#pick random theta\n",
    "theta=np.random.randn()\n",
    "print(\"rand theta\",theta)"
   ]
  },
  {
   "cell_type": "markdown",
   "metadata": {
    "slideshow": {
     "slide_type": "slide"
    }
   },
   "source": [
    "## Simplfied interferometry"
   ]
  },
  {
   "cell_type": "code",
   "execution_count": 27,
   "metadata": {
    "slideshow": {
     "slide_type": "subslide"
    }
   },
   "outputs": [
    {
     "data": {
      "text/html": [
       "<pre style=\"word-wrap: normal;white-space: pre;background: #fff0;line-height: 1.1;font-family: &quot;Courier New&quot;,Courier,monospace\">          ┌───┐┌──────────────┐┌───┐┌─┐\n",
       "q14_0: |0>┤ H ├┤ Rz(-0.58221) ├┤ H ├┤M├\n",
       "          └───┘└──────────────┘└───┘└╥┘\n",
       "  c8_0: 0 ═══════════════════════════╩═\n",
       "                                       </pre>"
      ],
      "text/plain": [
       "<qiskit.visualization.text.TextDrawing at 0x10ab4cb10>"
      ]
     },
     "execution_count": 27,
     "metadata": {},
     "output_type": "execute_result"
    }
   ],
   "source": [
    "q = QuantumRegister(1)\n",
    "c = ClassicalRegister(1)\n",
    "qc = QuantumCircuit(q,c)\n",
    "\n",
    "\n",
    "qc.h(q[0])\n",
    "qc.rz(theta,q[0])\n",
    "qc.h(q[0])\n",
    "qc.measure(q,c)\n",
    "qc.draw()"
   ]
  },
  {
   "cell_type": "code",
   "execution_count": 28,
   "metadata": {
    "slideshow": {
     "slide_type": "subslide"
    }
   },
   "outputs": [
    {
     "data": {
      "text/plain": [
       "{'0': 925, '1': 99}"
      ]
     },
     "execution_count": 28,
     "metadata": {},
     "output_type": "execute_result"
    }
   ],
   "source": [
    "backend = BasicAer.get_backend('qasm_simulator')\n",
    "job = execute(qc, backend, shots=1024)\n",
    "job.result().get_counts(qc)"
   ]
  },
  {
   "cell_type": "markdown",
   "metadata": {
    "slideshow": {
     "slide_type": "subslide"
    }
   },
   "source": [
    "The probability of zero, $\\cos^2(\\theta/2)$, is estimated using \n",
    "$\\sum_{j=1}^Nx_j/N$, with $x_j$ as $0$ or $1$ depending\n",
    "on $j$th the measured outcome.\n",
    "\n",
    "Because the $x_j$s are independent stochastic variables, **the variance\n",
    "associated with their average is the average of the variances** (central\n",
    "limit theorem)\n",
    "\n",
    "The error associated with the measurement of\n",
    "$\\cos^2(\\theta/2)$ is \n",
    "$$\\Delta(\\sum_{j=1}^Nx_j/N)\\equiv\\sqrt{\\sum_{j=1}^N\\Delta^2\n",
    "  x_j}/N=\\Delta x/\\sqrt{N}$$\n",
    "where $\\Delta x_j$ is the spread of the\n",
    "$j$th measurement (the spreads $\\Delta x_j$s are all equal to $\\Delta\n",
    "x$: they refer to the same experiment)."
   ]
  },
  {
   "cell_type": "code",
   "execution_count": 29,
   "metadata": {
    "slideshow": {
     "slide_type": "slide"
    }
   },
   "outputs": [],
   "source": [
    "#YOUR TURN: Try computing the variance of your sample for different values of N\n",
    "# see how quickly you can predict the value\n",
    "# test with different seed values for theta\n",
    "\n",
    "#What happens if you have three copies of the same setup\n",
    "# Construct the 3 qubit circuit where the procedure outlines is repeated on three qubits"
   ]
  },
  {
   "cell_type": "markdown",
   "metadata": {
    "slideshow": {
     "slide_type": "slide"
    }
   },
   "source": [
    "# Entangled measurements"
   ]
  },
  {
   "cell_type": "code",
   "execution_count": 37,
   "metadata": {
    "slideshow": {
     "slide_type": "subslide"
    }
   },
   "outputs": [
    {
     "data": {
      "text/plain": [
       "{'0': 384, '1': 640}"
      ]
     },
     "execution_count": 37,
     "metadata": {},
     "output_type": "execute_result"
    }
   ],
   "source": [
    "theta = 1.5\n",
    "\n",
    "q = QuantumRegister(3)\n",
    "c = ClassicalRegister(1)\n",
    "qc = QuantumCircuit(q,c)\n",
    "\n",
    "qc.h(q[0])\n",
    "qc.cx(q[0],q[1])\n",
    "qc.cx(q[0],q[2])\n",
    "qc.rz(theta,q[0])\n",
    "qc.rz(theta,q[1])\n",
    "qc.rz(theta,q[2])\n",
    "qc.cx(q[0],q[2])\n",
    "qc.cx(q[0],q[1])\n",
    "qc.h(q[0])\n",
    "qc.measure(q[0],c)\n",
    "qc.draw()\n",
    "\n",
    "backend = BasicAer.get_backend('qasm_simulator')\n",
    "job = execute(qc, backend, shots=1024)\n",
    "job.result().get_counts(qc)"
   ]
  },
  {
   "cell_type": "markdown",
   "metadata": {
    "slideshow": {
     "slide_type": "subslide"
    }
   },
   "source": [
    "The initial state is $(|000\\rangle + |111\\rangle)/\\sqrt{2}$.  Final state is \n",
    "$$e^{-iN\\theta/2}|000\\rangle + e^{iN\\theta/2}|111\\rangle)/\\sqrt{2} $$\n",
    "Here we have consider $N=3$.  Note that the fringes are enhanced by a factor of $N$. \n",
    "\n",
    "The measurement probability is now\n",
    "$$ P(0)=\\cos^2(N\\theta/2) $$ rather than $$P(0)=\\cos^2(\\theta/2)$$"
   ]
  },
  {
   "cell_type": "code",
   "execution_count": null,
   "metadata": {
    "slideshow": {
     "slide_type": "slide"
    }
   },
   "outputs": [],
   "source": [
    "#YOUR TURN: Try computing the variance of your sample for different values of N, and for different values of theta\n",
    "# see how quickly you can predict the value\n",
    "# test with different seed values for theta\n",
    "# Make a plot of the output measurements as theta goes from zero to 2 pi in steps of .2 radians with 1000 samples per point\n",
    "\n"
   ]
  }
 ],
 "metadata": {
  "celltoolbar": "Slideshow",
  "kernelspec": {
   "display_name": "Python 3",
   "language": "python",
   "name": "python3"
  },
  "language_info": {
   "codemirror_mode": {
    "name": "ipython",
    "version": 3
   },
   "file_extension": ".py",
   "mimetype": "text/x-python",
   "name": "python",
   "nbconvert_exporter": "python",
   "pygments_lexer": "ipython3",
   "version": "3.7.4"
  },
  "toc": {
   "base_numbering": 1,
   "nav_menu": {},
   "number_sections": true,
   "sideBar": false,
   "skip_h1_title": false,
   "title_cell": "Table of Contents",
   "title_sidebar": "Contents",
   "toc_cell": true,
   "toc_position": {
    "height": "100px",
    "left": "1242px",
    "top": "22px",
    "width": "165px"
   },
   "toc_section_display": true,
   "toc_window_display": true
  }
 },
 "nbformat": 4,
 "nbformat_minor": 4
}
