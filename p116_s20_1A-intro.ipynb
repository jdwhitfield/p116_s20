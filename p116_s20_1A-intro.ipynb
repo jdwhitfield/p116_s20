{
 "cells": [
  {
   "cell_type": "markdown",
   "metadata": {
    "heading_collapsed": true,
    "slideshow": {
     "slide_type": "slide"
    }
   },
   "source": [
    "# p116_s20_Introduction\n",
    "\n",
    "Physics 116: Quantum Information Science\n",
    "\n",
    "Professor Dr. James Whitfield; Teaching Assistant: Mr. Riley Chien\n",
    "\n"
   ]
  },
  {
   "cell_type": "markdown",
   "metadata": {
    "hidden": true,
    "toc": true
   },
   "source": [
    "<h1>Table of Contents<span class=\"tocSkip\"></span></h1>\n",
    "<div class=\"toc\"><ul class=\"toc-item\"><li><span><a href=\"#p116_s20_Introduction\" data-toc-modified-id=\"p116_s20_Introduction-1\"><span class=\"toc-item-num\">1&nbsp;&nbsp;</span>p116_s20_Introduction</a></span><ul class=\"toc-item\"><li><span><a href=\"#This-notebook-is-meant-to-introduce-the-basic-functionality-of-python-packages-that-will-be-used-throughout-the-course\" data-toc-modified-id=\"This-notebook-is-meant-to-introduce-the-basic-functionality-of-python-packages-that-will-be-used-throughout-the-course-1.1\"><span class=\"toc-item-num\">1.1&nbsp;&nbsp;</span>This notebook is meant to introduce the basic functionality of python packages that will be used throughout the course</a></span><ul class=\"toc-item\"><li><span><a href=\"#Standard-packages-that-will-be-used\" data-toc-modified-id=\"Standard-packages-that-will-be-used-1.1.1\"><span class=\"toc-item-num\">1.1.1&nbsp;&nbsp;</span>Standard packages that will be used</a></span></li></ul></li><li><span><a href=\"#Other-packages-that-may-interest-you\" data-toc-modified-id=\"Other-packages-that-may-interest-you-1.2\"><span class=\"toc-item-num\">1.2&nbsp;&nbsp;</span>Other packages that may interest you</a></span><ul class=\"toc-item\"><li><span><a href=\"#Quimb\" data-toc-modified-id=\"Quimb-1.2.1\"><span class=\"toc-item-num\">1.2.1&nbsp;&nbsp;</span>Quimb</a></span></li><li><span><a href=\"#Qiskit\" data-toc-modified-id=\"Qiskit-1.2.2\"><span class=\"toc-item-num\">1.2.2&nbsp;&nbsp;</span>Qiskit</a></span></li></ul></li><li><span><a href=\"#Qiskit\" data-toc-modified-id=\"Qiskit-1.3\"><span class=\"toc-item-num\">1.3&nbsp;&nbsp;</span>Qiskit</a></span><ul class=\"toc-item\"><li><span><a href=\"#Basic-objects\" data-toc-modified-id=\"Basic-objects-1.3.1\"><span class=\"toc-item-num\">1.3.1&nbsp;&nbsp;</span>Basic objects</a></span><ul class=\"toc-item\"><li><span><a href=\"#QuantumCircuits\" data-toc-modified-id=\"QuantumCircuits-1.3.1.1\"><span class=\"toc-item-num\">1.3.1.1&nbsp;&nbsp;</span>QuantumCircuits</a></span></li><li><span><a href=\"#Backends\" data-toc-modified-id=\"Backends-1.3.1.2\"><span class=\"toc-item-num\">1.3.1.2&nbsp;&nbsp;</span>Backends</a></span></li></ul></li></ul></li><li><span><a href=\"#Qiskit-Example\" data-toc-modified-id=\"Qiskit-Example-1.4\"><span class=\"toc-item-num\">1.4&nbsp;&nbsp;</span>Qiskit Example</a></span></li></ul></li><li><span><a href=\"#Additional-links-and-further-resources\" data-toc-modified-id=\"Additional-links-and-further-resources-2\"><span class=\"toc-item-num\">2&nbsp;&nbsp;</span>Additional links and further resources</a></span></li></ul></div>"
   ]
  },
  {
   "cell_type": "code",
   "execution_count": null,
   "metadata": {
    "hidden": true
   },
   "outputs": [],
   "source": []
  },
  {
   "cell_type": "markdown",
   "metadata": {
    "hidden": true,
    "slideshow": {
     "slide_type": "slide"
    }
   },
   "source": [
    "## This notebook is meant to introduce the basic functionality of python packages that will be used throughout the course"
   ]
  },
  {
   "cell_type": "markdown",
   "metadata": {
    "hidden": true,
    "slideshow": {
     "slide_type": "subslide"
    }
   },
   "source": [
    "### Standard packages that will be used\n",
    "1. *numpy*: standard linear algebra package for python, necessary for most other things - basic objects are multidimensional arrays\n",
    "1. *numpy.linalg*: standard linear algebra package for python, necessary for most other things - basic objects are multidimensional arrays\n",
    "2. *matplotlib*: standard data visualization for python"
   ]
  },
  {
   "cell_type": "markdown",
   "metadata": {
    "hidden": true,
    "slideshow": {
     "slide_type": "slide"
    }
   },
   "source": [
    "## Other packages that may interest you\n",
    "1. QuTip: General purpose quantum mechanics package, has various tools for perturbation theory, optimal control, open systems\n",
    "2. OpenFermion: Alternative software to map from fermionic systems to qubits\n",
    "3. PySCF: For classical molecular and electronic simulation\n",
    "4. Quimb: A tensor network package we'll be using later in the course "
   ]
  },
  {
   "cell_type": "markdown",
   "metadata": {
    "hidden": true,
    "slideshow": {
     "slide_type": "subslide"
    }
   },
   "source": [
    "### Quimb\n",
    "A tensor network package that will be used in the entanglement sections. It has general quantum information tools in the tensor network language such as partial traces and measures of entanglement. There are also numerical tools for matrix product states, other tensor network ansatz such as MERA, and quantum circuit optimization.\n",
    "\n",
    "https://quimb.readthedocs.io/en/latest/index.html\n",
    "\n",
    "https://github.com/jcmgray/quimb"
   ]
  },
  {
   "cell_type": "markdown",
   "metadata": {
    "hidden": true,
    "slideshow": {
     "slide_type": "slide"
    }
   },
   "source": [
    "### Qiskit\n",
    "\n",
    "A quantum computing package that will be used in the quantum algorithm sections. It has modules for Grover's seach and Shor's factoring algorithms as well as tools that will be helpful for quantum simulation and measurement schemes. This will be the package used to run algorithms on simulators as well as real quantum computers through the cloud.\n",
    "\n",
    "https://qiskit.org/documentation/\n",
    "\n",
    "https://github.com/Qiskit"
   ]
  },
  {
   "cell_type": "markdown",
   "metadata": {
    "hidden": true,
    "slideshow": {
     "slide_type": "subslide"
    }
   },
   "source": [
    "## Qiskit\n",
    "\n",
    "### Basic objects\n",
    "#### QuantumCircuits\n",
    "An object that holds a number of qubits and instructions for what gates to apply to them. It also holds classical bits to record the outcomes of qubit measurements.\n",
    "\n",
    "#### Backends\n",
    "These are the backends to run your circuits on. Usually you'll run on a simulator but also lets you run on a real device if you generate credentials by making an account here: https://quantum-computing.ibm.com/"
   ]
  },
  {
   "cell_type": "code",
   "execution_count": 2,
   "metadata": {
    "hidden": true,
    "slideshow": {
     "slide_type": "subslide"
    }
   },
   "outputs": [],
   "source": [
    "# Imports\n",
    "import numpy as np\n",
    "from qiskit import QuantumCircuit, execute, Aer\n",
    "from qiskit.visualization import plot_histogram"
   ]
  },
  {
   "cell_type": "markdown",
   "metadata": {
    "hidden": true,
    "slideshow": {
     "slide_type": "slide"
    }
   },
   "source": [
    "## Qiskit Example\n",
    "Here we'll see the see the circuit to create and measure a Bell pair"
   ]
  },
  {
   "cell_type": "code",
   "execution_count": 3,
   "metadata": {
    "hidden": true,
    "scrolled": true,
    "slideshow": {
     "slide_type": "subslide"
    }
   },
   "outputs": [
    {
     "name": "stdout",
     "output_type": "stream",
     "text": [
      "\n",
      "Total count for 00 and 11 are: {'11': 506, '00': 494}\n"
     ]
    },
    {
     "data": {
      "text/html": [
       "<pre style=\"word-wrap: normal;white-space: pre;background: #fff0;line-height: 1.1;font-family: &quot;Courier New&quot;,Courier,monospace\">        ┌───┐     ┌─┐   \n",
       "q_0: |0>┤ H ├──■──┤M├───\n",
       "        └───┘┌─┴─┐└╥┘┌─┐\n",
       "q_1: |0>─────┤ X ├─╫─┤M├\n",
       "             └───┘ ║ └╥┘\n",
       " c_0: 0 ═══════════╩══╬═\n",
       "                      ║ \n",
       " c_1: 0 ══════════════╩═\n",
       "                        </pre>"
      ],
      "text/plain": [
       "<qiskit.visualization.text.TextDrawing at 0x11fc74810>"
      ]
     },
     "execution_count": 3,
     "metadata": {},
     "output_type": "execute_result"
    }
   ],
   "source": [
    "# Use Aer's qasm_simulator\n",
    "simulator = Aer.get_backend('qasm_simulator')\n",
    "\n",
    "# Create a Quantum Circuit acting on the q register with 2 qubits and 2 classical bits\n",
    "circuit = QuantumCircuit(2, 2)\n",
    "\n",
    "# Add a H gate on qubit 0\n",
    "circuit.h(0)\n",
    "\n",
    "# Add a CX (CNOT) gate on control qubit 0 and target qubit 1\n",
    "circuit.cx(0, 1)\n",
    "\n",
    "# Other gates you can apply - Note the 1 & 2 qubit gates are universal \n",
    "# meaning that any unitary can be expressed as a product of them\n",
    "#circuit.x(0) # apply Pauli X to qubit 0\n",
    "#circuit.rx(0.1,1) # apply a X rotation by angle 0.1 to qubit 1\n",
    "#circuit.t(0) # apply a T gate to qubit 0\n",
    "\n",
    "\n",
    "# Map the quantum measurement to the classical bits\n",
    "circuit.measure([0,1], [0,1])\n",
    "\n",
    "# Execute the circuit on the qasm simulator\n",
    "job = execute(circuit, simulator, shots=1000)\n",
    "\n",
    "# Grab results from the job\n",
    "result = job.result()\n",
    "\n",
    "# Returns counts\n",
    "counts = result.get_counts(circuit)\n",
    "print(\"\\nTotal count for 00 and 11 are:\",counts)\n",
    "\n",
    "# Draw the circuit\n",
    "circuit.draw()"
   ]
  },
  {
   "cell_type": "markdown",
   "metadata": {
    "slideshow": {
     "slide_type": "slide"
    }
   },
   "source": [
    "# Additional links and further resources\n",
    "\n",
    "\n",
    "1. https://qiskit.org/textbook/\n",
    "2. https://github.com/rigetti/forest-tutorials\n",
    "3. https://github.com/quantumlib/Cirq/tree/master/examples/notebooks \n",
    "4. https://github.com/microsoft/Quantum \n",
    "4.1  https://docs.microsoft.com/en-us/quantum/concepts/ \n"
   ]
  },
  {
   "cell_type": "code",
   "execution_count": null,
   "metadata": {},
   "outputs": [],
   "source": []
  }
 ],
 "metadata": {
  "celltoolbar": "Slideshow",
  "kernelspec": {
   "display_name": "Python 3",
   "language": "python",
   "name": "python3"
  },
  "language_info": {
   "codemirror_mode": {
    "name": "ipython",
    "version": 3
   },
   "file_extension": ".py",
   "mimetype": "text/x-python",
   "name": "python",
   "nbconvert_exporter": "python",
   "pygments_lexer": "ipython3",
   "version": "3.7.4"
  },
  "toc": {
   "base_numbering": 1,
   "nav_menu": {},
   "number_sections": true,
   "sideBar": true,
   "skip_h1_title": false,
   "title_cell": "Table of Contents",
   "title_sidebar": "Contents",
   "toc_cell": true,
   "toc_position": {},
   "toc_section_display": true,
   "toc_window_display": true
  }
 },
 "nbformat": 4,
 "nbformat_minor": 4
}
