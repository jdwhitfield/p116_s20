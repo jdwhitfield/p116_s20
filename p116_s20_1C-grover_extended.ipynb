{
 "cells": [
  {
   "cell_type": "markdown",
   "metadata": {
    "toc": true
   },
   "source": [
    "<h1>Table of Contents<span class=\"tocSkip\"></span></h1>\n",
    "<div class=\"toc\"><ul class=\"toc-item\"><li><span><a href=\"#p116_s20_1B-grover:-Extensions-beyond-circuit-model\" data-toc-modified-id=\"p116_s20_1B-grover:-Extensions-beyond-circuit-model-1\"><span class=\"toc-item-num\">1&nbsp;&nbsp;</span>p116_s20_1B-grover: Extensions beyond circuit model</a></span><ul class=\"toc-item\"><li><span><a href=\"#Grover-Search\" data-toc-modified-id=\"Grover-Search-1.1\"><span class=\"toc-item-num\">1.1&nbsp;&nbsp;</span>Grover Search</a></span></li><li><span><a href=\"#Beyond-the-query-model\" data-toc-modified-id=\"Beyond-the-query-model-1.2\"><span class=\"toc-item-num\">1.2&nbsp;&nbsp;</span>Beyond the query model</a></span></li></ul></li><li><span><a href=\"#Additional-links-and-further-resources\" data-toc-modified-id=\"Additional-links-and-further-resources-2\"><span class=\"toc-item-num\">2&nbsp;&nbsp;</span>Additional links and further resources</a></span></li></ul></div>"
   ]
  },
  {
   "cell_type": "markdown",
   "metadata": {
    "slideshow": {
     "slide_type": "slide"
    }
   },
   "source": [
    "# p116_s20_1B-grover: Extensions beyond circuit model\n",
    "\n",
    "Physics 116: Quantum Information Science\n",
    "\n",
    "Professor Dr. James Whitfield; Teaching Assistant: Mr. Riley Chien\n",
    "\n"
   ]
  },
  {
   "cell_type": "markdown",
   "metadata": {
    "slideshow": {
     "slide_type": "slide"
    }
   },
   "source": [
    "## Grover Search\n",
    "Grover quantum search algorithm, along with Shor's factoring algorithm {Shor97}, is one of the most important applications of quantum information science to date.  Grover developed this algorithm in 1996 {Grover96,Grover97}, and, remarkably it was optimal for the task it set out to solve.  This task was to identify a marked state using a quantum computer."
   ]
  },
  {
   "cell_type": "markdown",
   "metadata": {
    "slideshow": {
     "slide_type": "slide"
    }
   },
   "source": [
    "## Beyond the query model\n",
    "We discussed gave a description of Grover search in the circuit model. Today we discuss it in the adiabatic and continous query models."
   ]
  },
  {
   "cell_type": "code",
   "execution_count": 1,
   "metadata": {
    "slideshow": {
     "slide_type": "subslide"
    }
   },
   "outputs": [
    {
     "data": {
      "text/html": [
       "\n",
       "        <iframe\n",
       "            width=\"600\"\n",
       "            height=\"300\"\n",
       "            src=\"./p116_s20_1C-continous_grover.pdf\"\n",
       "            frameborder=\"0\"\n",
       "            allowfullscreen\n",
       "        ></iframe>\n",
       "        "
      ],
      "text/plain": [
       "<IPython.lib.display.IFrame at 0x103e20b10>"
      ]
     },
     "execution_count": 1,
     "metadata": {},
     "output_type": "execute_result"
    }
   ],
   "source": [
    "from IPython.display import IFrame\n",
    "IFrame(\"./p116_s20_1C-continous_grover.pdf\", width=600, height=300)"
   ]
  },
  {
   "cell_type": "code",
   "execution_count": 3,
   "metadata": {
    "slideshow": {
     "slide_type": "subslide"
    }
   },
   "outputs": [
    {
     "data": {
      "text/html": [
       "\n",
       "        <iframe\n",
       "            width=\"600\"\n",
       "            height=\"300\"\n",
       "            src=\"./p116_s20_1C-adiabatic_grover.pdf\"\n",
       "            frameborder=\"0\"\n",
       "            allowfullscreen\n",
       "        ></iframe>\n",
       "        "
      ],
      "text/plain": [
       "<IPython.lib.display.IFrame at 0x103e40090>"
      ]
     },
     "execution_count": 3,
     "metadata": {},
     "output_type": "execute_result"
    }
   ],
   "source": [
    "from IPython.display import IFrame\n",
    "IFrame(\"./p116_s20_1C-adiabatic_grover.pdf\", width=600, height=300)"
   ]
  },
  {
   "cell_type": "markdown",
   "metadata": {
    "slideshow": {
     "slide_type": "slide"
    }
   },
   "source": [
    "# Additional links and further resources\n",
    "\n",
    "\n",
    "1. https://github.com/microsoft/QuantumKatas/tree/master/GroversAlgorithm\n",
    "2. https://qiskit.org/textbook/ch-algorithms/grover.html\n",
    "3. https://github.com/quantumlib/Cirq/blob/master/examples/grover.py https://qiskit.org/textbook/\n",
    "4. https://grove-docs.readthedocs.io/en/latest/grover.html"
   ]
  }
 ],
 "metadata": {
  "celltoolbar": "Slideshow",
  "kernelspec": {
   "display_name": "Python 3",
   "language": "python",
   "name": "python3"
  },
  "language_info": {
   "codemirror_mode": {
    "name": "ipython",
    "version": 3
   },
   "file_extension": ".py",
   "mimetype": "text/x-python",
   "name": "python",
   "nbconvert_exporter": "python",
   "pygments_lexer": "ipython3",
   "version": "3.7.4"
  },
  "toc": {
   "base_numbering": 1,
   "nav_menu": {},
   "number_sections": true,
   "sideBar": false,
   "skip_h1_title": false,
   "title_cell": "Table of Contents",
   "title_sidebar": "Contents",
   "toc_cell": true,
   "toc_position": {
    "height": "100px",
    "left": "1242px",
    "top": "22px",
    "width": "165px"
   },
   "toc_section_display": true,
   "toc_window_display": true
  }
 },
 "nbformat": 4,
 "nbformat_minor": 4
}
