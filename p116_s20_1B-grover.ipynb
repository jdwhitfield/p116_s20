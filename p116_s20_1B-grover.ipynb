{
 "cells": [
  {
   "cell_type": "markdown",
   "metadata": {
    "toc": true
   },
   "source": [
    "<h1>Table of Contents<span class=\"tocSkip\"></span></h1>\n",
    "<div class=\"toc\"><ul class=\"toc-item\"><li><span><a href=\"#p116_s20_1B-grover:-Reflections-on-Hilbert-space\" data-toc-modified-id=\"p116_s20_1B-grover:-Reflections-on-Hilbert-space-1\"><span class=\"toc-item-num\">1&nbsp;&nbsp;</span>p116_s20_1B-grover: Reflections on Hilbert space</a></span><ul class=\"toc-item\"><li><span><a href=\"#Grover-Search\" data-toc-modified-id=\"Grover-Search-1.1\"><span class=\"toc-item-num\">1.1&nbsp;&nbsp;</span>Grover Search</a></span></li><li><span><a href=\"#Database-search,-classical-results,-and-oracles\" data-toc-modified-id=\"Database-search,-classical-results,-and-oracles-1.2\"><span class=\"toc-item-num\">1.2&nbsp;&nbsp;</span>Database search, classical results, and oracles</a></span></li></ul></li><li><span><a href=\"#Phase-shift-oracle-(The-first-reflection)\" data-toc-modified-id=\"Phase-shift-oracle-(The-first-reflection)-2\"><span class=\"toc-item-num\">2&nbsp;&nbsp;</span>Phase shift oracle (The first reflection)</a></span></li><li><span><a href=\"#Reflection-about-the-mean\" data-toc-modified-id=\"Reflection-about-the-mean-3\"><span class=\"toc-item-num\">3&nbsp;&nbsp;</span>Reflection about the mean</a></span></li><li><span><a href=\"#The-Grover-operator-and-its-two-dimensional-operation\" data-toc-modified-id=\"The-Grover-operator-and-its-two-dimensional-operation-4\"><span class=\"toc-item-num\">4&nbsp;&nbsp;</span>The Grover operator and its two-dimensional operation</a></span></li><li><span><a href=\"#Summary\" data-toc-modified-id=\"Summary-5\"><span class=\"toc-item-num\">5&nbsp;&nbsp;</span>Summary</a></span></li><li><span><a href=\"#Additional-links-and-further-resources\" data-toc-modified-id=\"Additional-links-and-further-resources-6\"><span class=\"toc-item-num\">6&nbsp;&nbsp;</span>Additional links and further resources</a></span></li></ul></div>"
   ]
  },
  {
   "cell_type": "markdown",
   "metadata": {
    "slideshow": {
     "slide_type": "slide"
    }
   },
   "source": [
    "# p116_s20_1B-grover: Reflections on Hilbert space\n",
    "\n",
    "Physics 116: Quantum Information Science\n",
    "\n",
    "Professor Dr. James Whitfield; Teaching Assistant: Mr. Riley Chien\n",
    "\n"
   ]
  },
  {
   "cell_type": "markdown",
   "metadata": {
    "slideshow": {
     "slide_type": "slide"
    }
   },
   "source": [
    "## Grover Search\n",
    "Grover quantum search algorithm, along with Shor's factoring algorithm {Shor97}, is one of the most important applications of quantum information science to date.  Grover developed this algorithm in 1996 {Grover96,Grover97}, and, remarkably it was optimal for the task it set out to solve.  This task was to identify a marked state using a quantum computer."
   ]
  },
  {
   "cell_type": "markdown",
   "metadata": {
    "slideshow": {
     "slide_type": "slide"
    }
   },
   "source": [
    "## Database search, classical results, and oracles\n",
    "The database search problem is to find a marked state among $N=2^n$ unsorted items.  The canonical example is that of finding a particular name when given a phone number and a phone book.    \n",
    "\n",
    "Classically, if we want to find items from a set, $W$, it will take $O(N)$ time to search if $W$ only has one element.  To formalize these ideas, suppose for database $D$ we have function $f:D\\rightarrow\\{0,1\\}$ defined as\n",
    "\\begin{equation}\n",
    "\tf(x)=\\left\\{\\begin{array}{lc} 1, & x\\in W\\\\0, & x\\notin W\\end{array}\\right. \n",
    "\t\t\\label{eq:oracle_func}\n",
    "\\end{equation}\n",
    "Here, we only discuss the case where one item is marked.  "
   ]
  },
  {
   "cell_type": "markdown",
   "metadata": {
    "slideshow": {
     "slide_type": "subslide"
    }
   },
   "source": [
    "To find marked item $s$, we will have to apply $f(x)$ to each $x\\in\\{0,1,\\cdots,N-1\\}$.  On average, this will take $N/2$ tries and the worst case it will take $N-1$ tries.  In other words, as the database increases in size, the time required to search it will scale linearly with the size of the database."
   ]
  },
  {
   "cell_type": "markdown",
   "metadata": {
    "slideshow": {
     "slide_type": "slide"
    }
   },
   "source": [
    "# Phase shift oracle (The first reflection)\n",
    "Using an oracle that computes function $f$ from\n",
    "\\begin{equation}\n",
    "\tf(x)=\\left\\{\\begin{array}{lc} 1, & x\\in W\\\\0, & x\\notin W\\end{array}\\right. \n",
    "\t\t\\label{eq:oracle_func}\n",
    "\\end{equation}\n",
    "We would like to create an operator that changes the sign of marked items.  \n",
    "                \n",
    "                1.  we give the form of a unitary oracle\n",
    "                \n",
    "                2. we show how we can pick input states to create the desired operation\n",
    "                \n",
    "\n"
   ]
  },
  {
   "cell_type": "markdown",
   "metadata": {
    "slideshow": {
     "slide_type": "subslide"
    }
   },
   "source": [
    "\n",
    "Now, suppose we had an oracle $U_o$ that operates as $U_o|{x}\\rangle|{y}\\rangle\\rightarrow|{x}\\rangle|{y\\oplus f(x)}\\rangle$.  \n",
    "\n",
    "The reason for the oracle to be implemented as a two qubit operation is that we wish it to be unitary. "
   ]
  },
  {
   "cell_type": "markdown",
   "metadata": {
    "slideshow": {
     "slide_type": "subslide"
    }
   },
   "source": [
    "$$\n",
    "\\newcommand{\\ket}[1]{|#1\\rangle}\n",
    "\\newcommand{\\bra}[1]{\\langle#1|}\n",
    "\\newcommand{\\id}{\\mathbf{1}}\n",
    "$$\n",
    "Note that if we let the second qubit, $\\ket{y}$, be the state $\\ket{X-}=(\\ket{1}-\\ket{0})/\\sqrt{2}$, then oracle changes the sign of an input vector if it is a marked state.  Observe\n",
    "\n",
    "$$\n",
    "U_o\\left(\\frac{\\ket{x}\\ket{0}-\\ket{x}\\ket{1}}{\\sqrt{2}}\\right)=\\left(\\frac{\\ket{x}\\ket{f(x)}-\\ket{x}\\ket{1\\oplus f(x)}}{\\sqrt{2}}\\right)\n",
    "$$\n",
    "either \n",
    "+ $f(x)=0$ and the output state is $\\ket{x}(\\ket{0}-\\ket{1})$ \n",
    "+ $f(x)=1$ and the output state is $\\ket{x}(\\ket{0}-\\ket{1})$ \n",
    "\n",
    "Therefore, we write \n",
    "\\begin{equation}\n",
    "U_o\\ket{x}\\ket{X-}=(-1)^{f(x)}\\ket{x}\\ket{X-}.\n",
    "\\end{equation}"
   ]
  },
  {
   "cell_type": "markdown",
   "metadata": {
    "slideshow": {
     "slide_type": "subslide"
    }
   },
   "source": [
    "\\begin{equation}\n",
    "U_o\\ket{x}\\ket{X-}=(-1)^{f(x)}\\ket{x}\\ket{X-}.\n",
    "\\end{equation}\n",
    "If the second qubit is always in state $\\ket{X-}$, then the sign of answer state, $\\ket{w}$, changes and the other $N-1$ basis vectors are left unchanged.  Thus,\n",
    "\\begin{equation}\n",
    "\t U_o=-R_w= \\id - 2\\ket{w}\\bra{w}\\label{eq:oracle}\n",
    " \\end{equation}\n",
    " \n",
    " \n",
    "**Here, $R_w$ is a reflection about the $\\ket{w}$ state.**"
   ]
  },
  {
   "cell_type": "markdown",
   "metadata": {
    "slideshow": {
     "slide_type": "slide"
    }
   },
   "source": [
    "# Reflection about the mean\n",
    "\n",
    "\n",
    "In this subsection, the reflection about the mean is explained by, first, providing the definition and then providing the motivation for this definition.  \n",
    "The diffusion operator, $U_{mean}$, is defined as\n",
    "\\begin{equation}\n",
    "\tU_{mean}=R_s=2\\ket{s}\\bra{s}-\\id\n",
    "\\end{equation}\n",
    "The state $\\ket{s}$ is selected as a superposition over all database states including those of the target space. We pick\n",
    "\\begin{equation}\n",
    "\t\\ket{s}={\\sf H}^{\\otimes n}\\ket{0\\cdots0}=\\frac{1}{\\sqrt{N}}\\sum_{x=0}^{N-1}\\ket{x}\\label{eq:kets}\n",
    "\\end{equation}\n",
    "Here, $N=2^n$ is the normalization constant assuming there are $n$ qubits in the array."
   ]
  },
  {
   "cell_type": "markdown",
   "metadata": {
    "slideshow": {
     "slide_type": "subslide"
    }
   },
   "source": [
    "$$\n",
    "\\newcommand{\\braket}[2]{|\\langle #1| #2\\rangle}\n",
    "\\newcommand{\\ketbra}[2]{|#1\\rangle\\langle #2|}\n",
    "$$\n",
    "With\n",
    "\\begin{equation}\n",
    "\t\\ket{s}={\\sf H}^{\\otimes n}\\ket{0\\cdots0}=\\frac{1}{\\sqrt{N}}\\sum_{x=0}^{N-1}\\ket{x}\\label{eq:kets}\n",
    "\\end{equation}\n",
    "\\begin{equation}\n",
    "\tU_{mean}=R_s=2\\ket{s}\\bra{s}-\\id\n",
    "\\end{equation}\n",
    "$U_{mean}$ is called an inversion about the mean. \n",
    "\n",
    "+ Define the mean of $\\ket{v}$ as $\\bar{v}=\\sum_{k=0}^{N-1} \\frac{\\braket{k}{v}}{N}$\n",
    "+ Resolution of the identity $\\id=\\sum\\ket{i}\\bra{i}$,same basis as $\\ket{w}$"
   ]
  },
  {
   "cell_type": "markdown",
   "metadata": {
    "slideshow": {
     "slide_type": "subslide"
    }
   },
   "source": [
    "\\begin{eqnarray}\n",
    "\t\\ket{s}\\braket{s}{v}&=&\\sum_{i=0}^{N-1} \t\\ket{s}\\braket{s}{i}\\braket{i}{v}=\\sum_{i}  \\left(\\frac{1}{\\sqrt{N}}\\sum_{j=0}^{N-1} \\ket{j} \\right)\\left( \\frac{1}{\\sqrt{N}} \\sum_{k=0}^{N-1}\\bra{k} \\right)\\ket{i}\\braket{i}{v}\\\\\n",
    "\t&=& \\frac{1}{N}\\sum_{ijk}\\ket{j}\\braket{k}{i}\\braket{i}{v}= \\frac{1}{N}\\sum_{ijk}\\delta_{ki}\\braket{i}{v}\\ket{j}= \\sum_{j}\\frac{\\sum_i\\braket{i}{v}}{N}\\ket{j}\\\\\n",
    "\t&=&  \\sum_{j}\\bar{v}\\ket{j}\n",
    "\t\\label{eq:avg_inv}\n",
    "\\end{eqnarray}\n",
    "\n",
    "Putting it all together, $U_{mean}$ performs the following operation: $U_{mean}\\ket{v}\\rightarrow\\sum_j (2\\bar{v}-v_j)\\ket{j}$ with $v_j\\equiv \\braket{j}{v}$. "
   ]
  },
  {
   "cell_type": "markdown",
   "metadata": {
    "slideshow": {
     "slide_type": "subslide"
    }
   },
   "source": [
    "\n",
    "<img src=\"./reflection.pdf\" style=\"width: 75%;\"/>\n",
    "\n",
    "*The reflection of point $P$ about point $C$* results in point $P'$. The distance from $P$ to $C$ is $d=C-P$ and the distance from $P$ to $P'$ is $D=2d=2(C-P)$.  If follows that $P'=P+2(C-P)=2C-P$. The average amplitude $\\bar{v}$ becomes the center $C$ and $v_j$ can be identified as $P$. \n"
   ]
  },
  {
   "cell_type": "markdown",
   "metadata": {
    "slideshow": {
     "slide_type": "slide"
    }
   },
   "source": [
    "# The Grover operator and its two-dimensional operation\n",
    "\n",
    "The Grover operator is given by\n",
    "\\begin{equation}\n",
    "G=U_{mean}U_o=-R_sR_w\n",
    "\\end{equation}\n",
    "The Grover search works by evolving the state, $\\ket{s}$, toward \n",
    "the answer state, $\\ket{w}$, using only a two-dimensional subspace.    The states that have no overlap with $\\ket{s}$ and $\\ket{w}$ are eigenstates of $G$ with eigenvalue $-1$.  "
   ]
  },
  {
   "cell_type": "markdown",
   "metadata": {
    "slideshow": {
     "slide_type": "subslide"
    }
   },
   "source": [
    "<img src=\"./trig.pdf\" style=\"width: 75%;\"/>\n",
    "The trajectory generated by repeated application of $G$ on $\\ket{s}$ explores this two-dimensional space of span$\\{\\ket{w},\\ket{s}\\}$.\n",
    "\\begin{eqnarray}\n",
    "\t\\ket{r}&=&  \\sqrt{\\frac{N}{N-1}}\\ket{s}-\\sqrt{\\frac{1}{N-1}}\\ket{w}=\\sqrt{\\frac{1}{N-1}}\\sum_{x\\neq w}\\ket{x}\n",
    "\t\\label{eq:r}\n",
    "\\end{eqnarray}"
   ]
  },
  {
   "cell_type": "markdown",
   "metadata": {
    "slideshow": {
     "slide_type": "subslide"
    }
   },
   "source": [
    "The trajectory generated by repeated application of $G$ on $\\ket{s}$ explores this two-dimensional space of span$\\{\\ket{w},\\ket{s}\\}$.  To use an orthonormal basis, we construct a normalized state $\\ket{r}$ orthogonal to $\\ket{w}$ using a method like Gram-Schmidt decomposition {Horn05}. \n",
    "\\begin{eqnarray}\n",
    "\t\\ket{r}&=&  \\sqrt{\\frac{N}{N-1}}\\ket{s}-\\sqrt{\\frac{1}{N-1}}\\ket{w}=\\sqrt{\\frac{1}{N-1}}\\sum_{x\\neq w}\\ket{x}\n",
    "\t\\label{eq:r}\n",
    "\\end{eqnarray}\n",
    "\n",
    "\n",
    "By construction, span$\\{\\ket{w},\\ket{r}\\}=\\,$span$\\{\\ket{w},\\ket{s}\\}$.  Now, rewrite the initial superposition in this basis as $\\ket{s}=\\sqrt{(N-1)/N}\\ket{r}+N^{-1/2}\\ket{w}$.\n",
    "\\begin{eqnarray}\n",
    "\tG\\ket{r}&=& (2\\ketbra{s}{s}+2\\ketbra{w}{w}-4\\braket{s}{w}\\ketbra{s}{w}-\\id)\\ket{r}\\\\\n",
    "\t&=& \\left(1-\\frac{2}{N}\\right)\\ket{w}+\\frac{2\\sqrt{N-1}}{N}\\ket{r}\\\\\n",
    "\t&=& \\cos\\theta\\ket{w}+\\sin\\theta\\ket{r}\\label{eq:sinq}\n",
    "\\end{eqnarray}"
   ]
  },
  {
   "cell_type": "markdown",
   "metadata": {
    "slideshow": {
     "slide_type": "subslide"
    }
   },
   "source": [
    "Assuming that $G$ is real, we know that $G$ is unitary if and only if its two-dimensional matrix representation on the $w,r$ space takes the following form\n",
    "\\begin{equation}\n",
    "\tG=T(\\theta)=\\left[ \\begin{array}{rr}\n",
    "\t\t\\cos \\theta & \\sin \\theta\\\\\n",
    "\t\t- \\sin \\theta&\\cos \\theta \n",
    "\t\\end{array}\\right]\n",
    "\t\\label{eq:GRot}\n",
    "\\end{equation}\n",
    "with $\\theta$ defined through Eq.~\\eqref{eq:sinq}, assuming a matrix representation of arbitrary state $\\ket{v}$ is given by\n",
    "\\[\n",
    "\\ket{v}=\\left[ \\begin{array}{rr}\n",
    "\t\\braket{w}{v}\\\\\n",
    "\t\\braket{r}{v}\\\\\n",
    "\\end{array}\\right]\n",
    "\\]"
   ]
  },
  {
   "cell_type": "markdown",
   "metadata": {
    "slideshow": {
     "slide_type": "subslide"
    }
   },
   "source": [
    "To characterize initial state $s$, let $\\phi_r$ be the angle between $\\ket{s}$ and $\\ket{r}$.  By inserting this angle of rotation into a rotation matrix, we can rotate a vector beginning in state $\\ket{r}$ to state $\\ket{s}$, and the following equation is satisfied\n",
    "\\begin{equation}\n",
    "\t \\left[ \\begin{array}{rr}\n",
    "\t\t\\cos \\phi_r & \\sin \\phi_r\\\\\n",
    "\t\t- \\sin \\phi_r&\\cos \\phi_r \\\\\n",
    "\t\\end{array}\\right]\\left[ \\begin{array}{rr}\n",
    "\t0\\\\1\n",
    "\t\\end{array}\\right]=\\left[ \\begin{array}{rr}\n",
    "\t\\sin \\phi_r\\\\\\cos \\phi_r\n",
    "\t\\end{array}\\right]=\\left[ \\begin{array}{cc}\n",
    "\t\t\\braket{w}{s}\\\\\\braket{r}{s}\n",
    "\t\\end{array}\\right].\n",
    "\t\\label{eq:srot}\n",
    "\\end{equation}\n",
    "\n",
    "With \n",
    "\\begin{eqnarray}\n",
    "\t\\ket{r}&=&  \\sqrt{\\frac{N}{N-1}}\\ket{s}-\\sqrt{\\frac{1}{N-1}}\\ket{w}=\\sqrt{\\frac{1}{N-1}}\\sum_{x\\neq w}\\ket{x}\n",
    "\t\\label{eq:r}\n",
    "\\end{eqnarray}\n",
    "we derive that \n",
    "\\begin{eqnarray}\n",
    "\t\\ket{s}&=& \\sqrt{\\frac{N-1}{N}}\\ket{r}+\\sqrt{\\frac{1}{N}}\\ket{w}=\\sqrt{\\frac{1}{N}}\\left[ \\begin{array}{cc}1\t\\\\[6pt]\n",
    "\\sqrt{N-1}\n",
    "\\end{array}\\right]\\label{eq:s0}\\\\\n",
    "&=& \\cos\\phi_r\\ket{r}+\\sin\\phi_r\\ket{w}\n",
    "\\label{eq:s1}\\end{eqnarray} \n",
    "\n",
    "And, using geometric arguments, we can show that \n",
    "\\begin{equation}\n",
    "\t2\\phi_r=\\theta\n",
    "\t\\label{eq:2fq}  \n",
    "\\end{equation}"
   ]
  },
  {
   "cell_type": "markdown",
   "metadata": {
    "slideshow": {
     "slide_type": "slide"
    }
   },
   "source": [
    "# Summary \n",
    "<img src=\"./trig.pdf\" style=\"width: 75%;\"/>\n",
    "\\textbf{Grover search in the plane of the initial and target states.} To summarize, we depict the states $G\\ket{r}$ and $\\ket{s}$.   The answer state $\\ket{w}$ is parallel to the ordinate axis.  The abscissa is the orthogonal state $\\ket{r}$, a state orthogonal to the winner state defined in terms of $\\ket{s}$.  $\\ket{s}$ is uniform superposition of all states and characterizes by in plane $\\{\\ket{r},\\ket{w}\\}$.  If $\\phi_r$ is the angle between the $\\hat{r}$ axis and $\\ket{s}$ then the Grover operator $G$ performs a rotation of $2\\phi_r$.  After $O(\\sqrt{N})$ applications of the $G$ to the state $\\ket{s}$, there is high probability that measurement will result in marked state $w$.  "
   ]
  },
  {
   "cell_type": "markdown",
   "metadata": {
    "slideshow": {
     "slide_type": "slide"
    }
   },
   "source": [
    "# Additional links and further resources\n",
    "\n",
    "\n",
    "1. https://github.com/microsoft/QuantumKatas/tree/master/GroversAlgorithm\n",
    "2. https://qiskit.org/textbook/ch-algorithms/grover.html\n",
    "3. https://github.com/quantumlib/Cirq/blob/master/examples/grover.py https://qiskit.org/textbook/\n",
    "\n",
    "2. https://github.com/rigetti/forest-tutorials\n",
    "3. https://github.com/quantumlib/Cirq/tree/master/examples/notebooks \n",
    "4. https://github.com/microsoft/Quantum \n",
    "4.1  https://docs.microsoft.com/en-us/quantum/concepts/ \n"
   ]
  },
  {
   "cell_type": "code",
   "execution_count": null,
   "metadata": {},
   "outputs": [],
   "source": []
  }
 ],
 "metadata": {
  "celltoolbar": "Slideshow",
  "kernelspec": {
   "display_name": "Python 3",
   "language": "python",
   "name": "python3"
  },
  "language_info": {
   "codemirror_mode": {
    "name": "ipython",
    "version": 3
   },
   "file_extension": ".py",
   "mimetype": "text/x-python",
   "name": "python",
   "nbconvert_exporter": "python",
   "pygments_lexer": "ipython3",
   "version": "3.7.4"
  },
  "toc": {
   "base_numbering": 1,
   "nav_menu": {},
   "number_sections": true,
   "sideBar": true,
   "skip_h1_title": false,
   "title_cell": "Table of Contents",
   "title_sidebar": "Contents",
   "toc_cell": true,
   "toc_position": {},
   "toc_section_display": true,
   "toc_window_display": true
  }
 },
 "nbformat": 4,
 "nbformat_minor": 4
}
