{
 "cells": [
  {
   "cell_type": "markdown",
   "metadata": {},
   "source": [
    "# Grover search\n",
    "## Physics 116 : Quantum Information Science : Dartmouth College \n",
    "### J D Whitfield (James.D.Whitfield@dartmouth.edu)"
   ]
  },
  {
   "cell_type": "markdown",
   "metadata": {},
   "source": [
    "We're going to continue our investigation of the Grover search.  First, load qiskit to make sure everything is working. "
   ]
  },
  {
   "cell_type": "code",
   "execution_count": 1,
   "metadata": {},
   "outputs": [],
   "source": [
    "from time import time\n",
    "start_time=time() #current time in seconds\n",
    "\n",
    "#BEGIN IMPORTS\n",
    "import numpy as np\n",
    "#from qiskit import QuantumProgram\n",
    "#from qiskit import QuantumCircuit,QuantumRegister,ClassicalRegister\n",
    "from qiskit.tools.visualization import plot_histogram\n",
    "from qiskit import *\n",
    "import matplotlib.pyplot as plt\n",
    "%matplotlib inline\n",
    "#END IMPORTS\n",
    "\n",
    "#BEGIN UTILITIES\n",
    "def clean(x):\n",
    "    \"\"\"Sets values below 1e-10 to zero\"\"\"\n",
    "    return np.round(x*1e10)/1e10\n",
    "\n",
    "def printnz(x):\n",
    "    \"\"\"prints non-zero values (over 1e-10) of a vector\"\"\"\n",
    "    \n",
    "    temp=clean(x)\n",
    "    for val in temp:\n",
    "        if(val!=0):\n",
    "            print(val)\n",
    "#END UTILITIES\n",
    "        \n",
    "n=3    #number of qubits for database of size N=2**n\n",
    "       #tested with n=3, n=4. Other values will work \n"
   ]
  },
  {
   "cell_type": "markdown",
   "metadata": {},
   "source": [
    "Next, let us recall the key points of Grover search:\n",
    "1. Initial state: $s=\\frac{1}{\\sqrt{N}}\\sum_{x=0}^{N-1} |x\\rangle$\n",
    "\n",
    "2. Oracle: $R_w=2|w\\rangle \\langle w| - \\mathbf{1}$, [*phase encoded*]\n",
    "\n",
    "3. Reflection about state $s$: $R_s=2|s\\rangle \\langle s| - \\mathbf{1}$\n",
    "\n",
    "4. Grover operator $G=-R_s R_w$\n",
    " \n",
    "The list is also the order in which we will proceed. \n",
    "\n",
    "We'll be using $n$ qubits for the database of size $2^n$. Additionally, we will need an additional qubit for the phase oracle, and n qubits for ancillas to implement the multi-controlled gates."
   ]
  },
  {
   "cell_type": "markdown",
   "metadata": {},
   "source": [
    "# Initial state"
   ]
  },
  {
   "cell_type": "markdown",
   "metadata": {},
   "source": [
    "Observe, for $n$ bits there are $2^n$ possible states.  Consistent with this observation we can re-write the general $s$ state as\n",
    "$s=\\frac{1}{\\sqrt{N}}\\sum_{x_0=0}^{1}\\sum_{x_1=0}^1...\\sum_{x_n=0}^1 |x_0x_1x_2...x_n \\rangle$ to arrive at\n",
    "\n",
    "$$s=\\frac{1}{8}\\sum_{x_0=0}^1\\sum_{x_1=0}^1\\sum_{x_2=0}^1|x_0x_1x_2\\rangle$$\n",
    "  \n",
    " "
   ]
  },
  {
   "cell_type": "code",
   "execution_count": 2,
   "metadata": {},
   "outputs": [],
   "source": [
    "def init_state(qcir):\n",
    "    \"\"\"initial state for Grover search, (database,ancillas,orcale_ancila) =(s, 000, +) \"\"\"\n",
    "    #Hadamard for database qubits\n",
    "    for i in range(n):\n",
    "        qcir.h(q[i])\n",
    "        \n",
    "    #oracle applies a Z on the winner state which takes |1> to -|1>\n",
    "    #so we initialize oracle ancilla to |1> state\n",
    "    qcir.x(o[0])\n",
    "    return qcir"
   ]
  },
  {
   "cell_type": "markdown",
   "metadata": {},
   "source": [
    "The s state will be saved as psi1_s for comparison later."
   ]
  },
  {
   "cell_type": "code",
   "execution_count": 3,
   "metadata": {},
   "outputs": [],
   "source": [
    "#SETUP ROUTINE\n",
    "#\n",
    "#setup registers\n",
    "q =QuantumRegister(n,\"database\")  # quantum registers\n",
    "o =QuantumRegister(1,\"oracle\")  # quantum registers\n",
    "w =QuantumRegister(n-1,\"ancillas\")  # work space\n",
    "c =ClassicalRegister(n,\"outcomes\")  # classical register (for measurement outcomes)\n",
    "#pick random winner\n",
    "winner=np.binary_repr(np.random.randint(2**n),n)\n",
    "#QISKit parameters\n",
    "N_shots=1000\n",
    "cirname= 'grover'\n",
    "#qp=QuantumProgram()                         \n",
    "qcir=QuantumCircuit(q,o,w,c)\n",
    "#\n",
    "# END SETUP\n",
    "\n",
    "    \n",
    "qcir=init_state(qcir)    \n",
    " \n",
    "\n",
    "#QISKIT ROUTINE\n",
    "#qp.add_circuit(cirname,qcir)\n",
    "backend = BasicAer.get_backend('unitary_simulator') # the device to run on\n",
    "#result=qp.execute(cirname,backend=backend,shots=N_shots)\n",
    "result=execute(qcir,backend=backend,shots=N_shots)\n",
    "\n",
    "\n",
    "#U=result.get_data(cirname)['unitary']\n",
    "U = result.result().get_unitary(qcir, decimals=3)\n",
    "psi0 = np.zeros(U.shape[0])\n",
    "psi0[0]=1.0\n",
    "#now we have psi as a regular numpy array\n",
    "#psi = np.dot(result.get_data(cirname)['unitary'], psi0)\n",
    "psi = np.dot(U, psi0)\n",
    "#END QISKIT ROUTINE\n",
    "\n",
    "#save state\n",
    "psi1_s=psi\n"
   ]
  },
  {
   "cell_type": "markdown",
   "metadata": {},
   "source": [
    "# Reflections in general"
   ]
  },
  {
   "cell_type": "markdown",
   "metadata": {},
   "source": [
    "<img src=\"./reflection_op.png\" style=\"width: 50%;\"/>\n",
    "\n",
    "<img src=\"./reflections2.png\" style=\"width: 50%;\"/>"
   ]
  },
  {
   "cell_type": "markdown",
   "metadata": {},
   "source": [
    "# Phase Oracle"
   ]
  },
  {
   "cell_type": "markdown",
   "metadata": {},
   "source": [
    "To implement the oracle, we can use the extended controlled z gate on an ancilla"
   ]
  },
  {
   "cell_type": "code",
   "execution_count": 4,
   "metadata": {},
   "outputs": [],
   "source": [
    "def Rw(cir,winner):\n",
    "    \n",
    "    if(len(winner)!=n):\n",
    "        print(\"error, winner string mis-formatted\")\n",
    "    \n",
    "    #modify control flags appropriately for secert state\n",
    "    for k in range(len(winner)):\n",
    "        \n",
    "        #NOTE: reading the string in reverse to match QISKit conventions\n",
    "        if(winner[len(winner)-k-1]=='0'):\n",
    "            cir.x(q[k])\n",
    "    \n",
    "    #BEGIN controlled n z gate (see notebook 'n-Controlled z' for more information)\n",
    "    if n<2:\n",
    "        return None;\n",
    "    \n",
    "    cir.ccx(q[0],q[1],w[0])\n",
    "\n",
    "    for k in range(0,n-2):\n",
    "        cir.ccx(q[k+2],w[k],w[k+1])\n",
    "\n",
    "    cir.cz(w[n-2],o[0])\n",
    "    \n",
    "    for k in range(n-3,-1,-1): #counts from n-2 to 0\n",
    "        cir.ccx(q[k+2],w[k],w[k+1])\n",
    "    \n",
    "    cir.ccx(q[0],q[1],w[0])\n",
    "    #END controlled n z gate\n",
    "    \n",
    "    #unmodify controls appropriately for secert state   \n",
    "    for k in range(len(winner)):\n",
    "        if(winner[len(winner)-k-1]=='0'):\n",
    "            cir.x(q[k])\n",
    "    \n",
    "    return cir\n"
   ]
  },
  {
   "cell_type": "markdown",
   "metadata": {},
   "source": [
    "# State $R_w|s\\rangle$\n",
    "We should see the marked state with an additional phase factor when examining the final state.  We'll save the state $R_w|s\\rangle$ in the variable psi2_rw for comparison purposes"
   ]
  },
  {
   "cell_type": "code",
   "execution_count": 5,
   "metadata": {
    "scrolled": true
   },
   "outputs": [],
   "source": [
    "phi0=np.arcsin(1/np.sqrt(2**n));\n",
    "\n",
    "\n",
    "q =QuantumRegister(n,\"database\")  # quantum registers\n",
    "o =QuantumRegister(1,\"oracle\")  # quantum registers\n",
    "w =QuantumRegister(n-1,\"ancillas\")  # work space\n",
    "c =ClassicalRegister(n,\"outcomes\")  # classical register (for measurement outcomes)\n",
    "\n",
    "\n",
    "\n",
    "#pick random winner\n",
    "winner=np.binary_repr(np.random.randint(2**n),n)\n",
    "\n",
    "N_shots=1000\n",
    "\n",
    "cirname= 'grover'\n",
    "#qp=QuantumProgram()                         \n",
    "    \n",
    "    \n",
    "qcir=QuantumCircuit(q,o,w,c)\n",
    "\n",
    "#construct the circuit\n",
    "qcir=init_state(qcir)    \n",
    "qcir=Rw(qcir,winner)\n",
    "    \n",
    "#qp.add_circuit(cirname,qcir)\n",
    "#backend = 'local_unitary_simulator' # the device to run on\n",
    "backend = BasicAer.get_backend('unitary_simulator') # the device to run on\n",
    "result=execute(qcir,backend=backend,shots=N_shots)\n",
    "\n",
    "U = result.result().get_unitary(qcir, decimals=3)\n",
    "psi0 = np.zeros(U.shape[0])\n",
    "psi0[0]=1.0\n",
    "#now we have psi as a regular numpy array\n",
    "psi2_rw = np.dot(U, psi0)\n",
    "\n",
    "#rho=np.outer(psi,psi.conj())\n",
    "#plot_state(rho,'city')\n"
   ]
  },
  {
   "cell_type": "code",
   "execution_count": 6,
   "metadata": {
    "scrolled": true
   },
   "outputs": [
    {
     "name": "stdout",
     "output_type": "stream",
     "text": [
      "psi1_s=\n",
      "\n",
      "(0.35400000000000004+0j)\n",
      "(0.35400000000000004+0j)\n",
      "(0.35400000000000004+0j)\n",
      "(0.35400000000000004+0j)\n",
      "(0.35400000000000004+0j)\n",
      "(0.35400000000000004+0j)\n",
      "(0.35400000000000004+0j)\n",
      "(0.35400000000000004+0j)\n",
      "\n",
      "psi2_rw=\n",
      "\n",
      "(0.35400000000000004+0j)\n",
      "(0.35400000000000004+0j)\n",
      "(0.35400000000000004+0j)\n",
      "(0.35400000000000004+0j)\n",
      "(0.35400000000000004+0j)\n",
      "(0.35400000000000004+0j)\n",
      "(-0.35400000000000004+0j)\n",
      "(0.35400000000000004+0j)\n"
     ]
    }
   ],
   "source": [
    "print(\"psi1_s=\\n\")\n",
    "printnz(psi1_s)\n",
    "print(\"\\npsi2_rw=\\n\")\n",
    "printnz(psi2_rw)"
   ]
  },
  {
   "cell_type": "markdown",
   "metadata": {},
   "source": [
    "Rw looks good. Now is Rs working? <2018 May 5>"
   ]
  },
  {
   "cell_type": "markdown",
   "metadata": {},
   "source": [
    "# Reflection about s  \n",
    "More accurately, $\\mathbf{1}-2|s\\rangle\\langle s |$"
   ]
  },
  {
   "cell_type": "code",
   "execution_count": 7,
   "metadata": {},
   "outputs": [],
   "source": [
    "def Rs(cir):\n",
    "    \"\"\" starts with cccc-z primative and changes basis appropriately\"\"\"\n",
    "\n",
    "    for k in range(n):\n",
    "        #convert to S state\n",
    "        cir.h(q[k])\n",
    "        #convert to cccc-z primative to zeros\n",
    "        cir.x(q[k])\n",
    "\n",
    "    #BEGIN controlled n z gate (see notebook 'n-Controlled z' for more information)\n",
    "    if n<2:\n",
    "        return None;\n",
    "    \n",
    "    cir.ccx(q[0],q[1],w[0])\n",
    "\n",
    "    for k in range(0,n-3):\n",
    "        cir.ccx(q[k+2],w[k],w[k+1])\n",
    "\n",
    "    cir.cz(w[n-3],q[n-1])\n",
    "    \n",
    "    for k in range(n-4,-1,-1): #counts from n-3 to 0\n",
    "        cir.ccx(q[k+2],w[k],w[k+1])\n",
    "    \n",
    "    cir.ccx(q[0],q[1],w[0])\n",
    "    #END controlled n z gate\n",
    "    \n",
    "    \n",
    "    for k in range(n):\n",
    "        #convert back from zeros\n",
    "        cir.x(q[k])\n",
    "        #convert back from S\n",
    "        cir.h(q[k])\n",
    "        \n",
    "\n",
    "    return cir"
   ]
  },
  {
   "cell_type": "markdown",
   "metadata": {},
   "source": [
    "# State $-R_s|s\\rangle$ \n",
    "\n",
    "The -Rs gate should change the phase of the s state but otherwise leave it unchanged.  We will test this by running with Rs (psi2_rs) and comparing with $|s\\rangle$=psi1 the initial state.  The should be 180$^\\circ$ out of phase. "
   ]
  },
  {
   "cell_type": "code",
   "execution_count": 8,
   "metadata": {},
   "outputs": [],
   "source": [
    "#SETUP ROUTINE\n",
    "#\n",
    "#setup registers\n",
    "q =QuantumRegister(n,\"database\")  # quantum registers\n",
    "o =QuantumRegister(1,\"oracle\")  # quantum registers\n",
    "w =QuantumRegister(n-1,\"ancillas\")  # work space\n",
    "c =ClassicalRegister(n,\"outcomes\")  # classical register (for measurement outcomes)\n",
    "#pick random winner\n",
    "winner=np.binary_repr(np.random.randint(2**n),n)\n",
    "#QISKit parameters\n",
    "N_shots=1000\n",
    "cirname= 'grover'\n",
    "#qp=QuantumProgram()                         \n",
    "qcir=QuantumCircuit(q,o,w,c)\n",
    "#\n",
    "# END SETUP\n",
    "\n",
    "    \n",
    "qcir=init_state(qcir)    \n",
    "qcir=Rs(qcir)\n",
    "\n",
    "\n",
    "#QISKIT ROUTINE\n",
    "#qp.add_circuit(cirname,qcir)\n",
    "backend = BasicAer.get_backend('unitary_simulator') # the device to run on\n",
    "result=execute(qcir,backend=backend,shots=N_shots)\n",
    "\n",
    "U = result.result().get_unitary(qcir, decimals=3)\n",
    "psi0 = np.zeros(U.shape[0])\n",
    "psi0[0]=1.0\n",
    "#now we have psi as a regular numpy array\n",
    "psi = np.dot(U, psi0)\n",
    "#END QISKIT ROUTINE\n",
    "\n",
    "#save state\n",
    "psi2_rs=psi\n",
    "\n"
   ]
  },
  {
   "cell_type": "code",
   "execution_count": 9,
   "metadata": {},
   "outputs": [
    {
     "name": "stdout",
     "output_type": "stream",
     "text": [
      "psi1_s=\n",
      "\n",
      "(0.35400000000000004+0j)\n",
      "(0.35400000000000004+0j)\n",
      "(0.35400000000000004+0j)\n",
      "(0.35400000000000004+0j)\n",
      "(0.35400000000000004+0j)\n",
      "(0.35400000000000004+0j)\n",
      "(0.35400000000000004+0j)\n",
      "(0.35400000000000004+0j)\n",
      "\n",
      "psi2_rs=\n",
      "\n",
      "(-0.35400000000000004+0j)\n",
      "(-0.35400000000000004+0j)\n",
      "(-0.35400000000000004+0j)\n",
      "(-0.35400000000000004+0j)\n",
      "(-0.35400000000000004+0j)\n",
      "(-0.35400000000000004+0j)\n",
      "(-0.35400000000000004+0j)\n",
      "(-0.35400000000000004+0j)\n"
     ]
    }
   ],
   "source": [
    "print(\"psi1_s=\\n\")\n",
    "printnz(psi1_s)\n",
    "print(\"\\npsi2_rs=\\n\")\n",
    "printnz(psi2_rs)\n"
   ]
  },
  {
   "cell_type": "markdown",
   "metadata": {},
   "source": [
    "# Analysis\n",
    "\n",
    "\n",
    "The Grover operator is given by\n",
    "$$\n",
    "G=U_{mean}U_o=-R_sR_w.\n",
    "$$\n",
    "The Grover search works by evolving the state $s$ toward \n",
    "the answer state $|{w}\\rangle$ using only a two-dimensional space.  This is because the Grover operator does not evolve state outside of this two-dimensional space.  The states that have no overlap with $|s\\rangle$ and $|w\\rangle$ are eigenstates of $G$ with eigenvalue $-1$.  Using equations \t $U_o=R_w=  2|w\\rangle\\langle w|-\\mathbf{1} $ and \t$U_{mean}=-R_s=\\mathbf{1}-2|s\\rangle\\langle s|$.\n",
    " to expand $G$ as \n",
    "$$\n",
    "G= 2|s\\rangle\\langle s|+2|w\\rangle\\langle w|-4|s\\rangle\\langle w|s\\rangle\\langle w|-\\mathbf{1}.\n",
    "$$"
   ]
  },
  {
   "cell_type": "markdown",
   "metadata": {},
   "source": [
    "If $|{t}\\rangle$ has no overlap with $w$ or $s$ then $G|{t}\\rangle=-|{t}\\rangle$.  Although $|s\\rangle$ is a superposition of all states in the database basis, the vectors $w$ and $s$ cannot span the entire space.  An example of such a vector $t$ is any superposition of an even number of states with alternating sign is orthogonal to $|{s}\\rangle$, for instance $|t\\rangle={\\sf H}^{\\otimes n}|{1\\cdots1}\\rangle=(1/\\sqrt{N})\\sum (-1)^x|{x}\\rangle$.  If the superposition $t$  does not include the answer state, then $t$ is in the $N-2$ dimensional space orthogonal to span$\\{|{w}\\rangle,|{s}\\rangle\\}$."
   ]
  },
  {
   "cell_type": "markdown",
   "metadata": {},
   "source": [
    "Now, consider a new vector $|r\\rangle$ such that span$\\{|w\\rangle,|s\\rangle\\}=$span$\\{|r\\rangle,|w\\rangle : \\langle r|w\\rangle=0 \\}$.  We express $s$ in the $w,r$ basis as\n",
    "$$s=\\frac{1}{\\sqrt{N}}\\sum_{x\\neq w}^{N-1}|x\\rangle+\\frac{1}{\\sqrt{N}}|w\\rangle=\\sqrt{\\frac{N-1}{N}} \\frac{1}{\\sqrt{N-1}}\\sum_{x\\neq w}^{N-1}|x\\rangle+\\frac{1}{\\sqrt{N}}|w\\rangle=\\sqrt{\\frac{N-1}{N}}|r\\rangle+\\frac{1}{\\sqrt{N}}|w\\rangle$$\n",
    "If we let $\\phi$ be the angle that $s$ has with $r$, then $\\sin\\phi=1/\\sqrt{N}$ (labelled as c in the figure below) and $\\cos\\phi=\\sqrt{\\frac{N-1}{N}}$.  \n",
    "\n",
    "Next, consider $G|r\\rangle=-R_sR_w|r\\rangle=R_s|r\\rangle=2|s\\rangle(\\cos\\phi)-|r\\rangle=2\\cos\\phi(\\cos\\phi|r\\rangle+\\sin\\phi|w\\rangle-|r\\rangle=(2\\cos^2\\phi-1)|r\\rangle+2\\cos\\phi\\sin\\phi|w\\rangle$.  \n",
    "\n",
    "These computations can be summarized in the following figure. "
   ]
  },
  {
   "cell_type": "markdown",
   "metadata": {},
   "source": [
    "<img src=\"./geometry3.jpg\" style=\"width: 25%;\"/>"
   ]
  },
  {
   "cell_type": "markdown",
   "metadata": {},
   "source": [
    "The repeated action of the Grover operator advances the angle by an additional $2\\phi$ units.  \n",
    "The initial state has angle $\\phi=\\sin^{-1}(1/\\sqrt{N})$.\n",
    "Hence, after $k$ iterations, the angle is $\\Phi_k=(2k+1)\\phi$. \n",
    "\n",
    "The probability of correctly guessing the state depends on the angle.  The probaility is given by $$p_w=\\sin^2(\\Phi_k)$$.\n",
    "<based on the projection onto $w$ axis squared>"
   ]
  },
  {
   "cell_type": "markdown",
   "metadata": {},
   "source": [
    "# Theoretical values"
   ]
  },
  {
   "cell_type": "code",
   "execution_count": 10,
   "metadata": {
    "scrolled": true
   },
   "outputs": [
    {
     "name": "stdout",
     "output_type": "stream",
     "text": [
      "0 : pw= 0.12500000000000003\n",
      "1 : pw= 0.7812500000000001\n",
      "2 : pw= 0.9453124999999999\n",
      "3 : pw= 0.330078125\n"
     ]
    },
    {
     "data": {
      "image/png": "[encoded data removed]",
      "text/plain": [
       "<Figure size 432x288 with 1 Axes>"
      ]
     },
     "metadata": {
      "needs_background": "light"
     },
     "output_type": "display_data"
    }
   ],
   "source": [
    "#based on the calculation presented above\n",
    "\n",
    "phi=np.arcsin(2**(-n/2))\n",
    "\n",
    "def Phi_k(k): return (2*k+1)*phi;\n",
    "\n",
    "def p_win(k): return np.sin(Phi_k(k))**2;\n",
    "\n",
    "#iterations=min(50,int(3**n));\n",
    "max_steps=3\n",
    "\n",
    "x=[]\n",
    "y=[]\n",
    "for k in range(max_steps*10):\n",
    "    x.append(k)\n",
    "    y.append(p_win(k))\n",
    "    if(k<max_steps+1):\n",
    "        print(k,\": pw=\",p_win(k))\n",
    "        \n",
    "plt.plot(x,y)\n",
    "plt.xlabel(\"Grover steps\")\n",
    "plt.ylabel(\"Probability of winner state\")\n",
    "plt.show()\n"
   ]
  },
  {
   "cell_type": "markdown",
   "metadata": {},
   "source": [
    "## Grover search for winner\n",
    "We will first extract the states.  Then we will run it with histograms of the simulation results."
   ]
  },
  {
   "cell_type": "code",
   "execution_count": 11,
   "metadata": {},
   "outputs": [],
   "source": [
    "grover_states=[]\n",
    "\n",
    "# SETUP ROUTINE\n",
    "#\n",
    "#setup registers\n",
    "q =QuantumRegister(n,\"database\")  # quantum registers\n",
    "o =QuantumRegister(1,\"oracle\")  # quantum registers\n",
    "w =QuantumRegister(n-1,\"ancillas\")  # work space\n",
    "c =ClassicalRegister(n,\"outcomes\")  # classical register (for measurement outcomes)\n",
    "#pick random winner\n",
    "winner=np.binary_repr(np.random.randint(2**n),n)\n",
    "#QISKit parameters\n",
    "N_shots=1000\n",
    "#\n",
    "# END SETUP\n",
    "\n",
    "\n",
    "for grover_steps in range(max_steps):\n",
    "    \n",
    "    #RESET QISKIT\n",
    "    cirname= 'grover'+str(grover_steps)\n",
    "    #qp=QuantumProgram()                         \n",
    "    qcir=QuantumCircuit(q,o,w,c)\n",
    "    #END RESET QISKIT    \n",
    "        \n",
    "    \n",
    "    qcir=init_state(qcir)    \n",
    "    \n",
    "    for k in range(grover_steps):\n",
    "        qcir=Rw(qcir,winner)\n",
    "        qcir=Rs(qcir)\n",
    "\n",
    "\n",
    "\n",
    "    #QISKIT ROUTINE\n",
    "    #qp.add_circuit(cirname,qcir)\n",
    "    backend = BasicAer.get_backend('unitary_simulator') # the device to run on\n",
    "    result = execute(qcir,backend=backend,shots=N_shots)\n",
    "\n",
    "    U = result.result().get_unitary(qcir, decimals=3)\n",
    "    psi0 = np.zeros(U.shape[0])\n",
    "    psi0[0]=1.0\n",
    "    #now we have psi as a regular numpy array\n",
    "    psi = np.dot(U, psi0)\n",
    "    #END QISKIT ROUTINE\n",
    "    \n",
    "    grover_states.append(psi)\n"
   ]
  },
  {
   "cell_type": "code",
   "execution_count": 12,
   "metadata": {},
   "outputs": [
    {
     "name": "stdout",
     "output_type": "stream",
     "text": [
      "\n",
      "--\n",
      "after  0  steps:\n",
      "\n",
      "(0.35400000000000004+0j)\n",
      "(0.35400000000000004+0j)\n",
      "(0.35400000000000004+0j)\n",
      "(0.35400000000000004+0j)\n",
      "(0.35400000000000004+0j)\n",
      "(0.35400000000000004+0j)\n",
      "(0.35400000000000004+0j)\n",
      "(0.35400000000000004+0j)\n",
      "\n",
      "--\n",
      "after  1  steps:\n",
      "\n",
      "(-0.17700000000000002+0j)\n",
      "(-0.17700000000000002+0j)\n",
      "(-0.17700000000000002+0j)\n",
      "(-0.17700000000000002+0j)\n",
      "(-0.884+0j)\n",
      "(-0.17700000000000002+0j)\n",
      "(-0.17700000000000002+0j)\n",
      "(-0.17700000000000002+0j)\n",
      "\n",
      "--\n",
      "after  2  steps:\n",
      "\n",
      "(-0.08800000000000001+0j)\n",
      "(-0.08800000000000001+0j)\n",
      "(-0.08800000000000001+0j)\n",
      "(-0.08800000000000001+0j)\n",
      "(0.9720000000000001+0j)\n",
      "(-0.08800000000000001+0j)\n",
      "(-0.08800000000000001+0j)\n",
      "(-0.08800000000000001+0j)\n"
     ]
    }
   ],
   "source": [
    "for k in range(max_steps): \n",
    "    print(\"\\n--\\nafter \",k,\" steps:\\n\")\n",
    "    printnz(grover_states[k])"
   ]
  },
  {
   "cell_type": "code",
   "execution_count": 13,
   "metadata": {},
   "outputs": [
    {
     "name": "stdout",
     "output_type": "stream",
     "text": [
      "grover0 : pw= 0.113  and pw_expected= 0.12500000000000003 \n",
      "\n",
      "grover1 : pw= 0.782  and pw_expected= 0.7812500000000001 \n",
      "\n",
      "grover2 : pw= 0.95  and pw_expected= 0.9453124999999999 \n",
      "\n"
     ]
    }
   ],
   "source": [
    "# SETUP ROUTINE\n",
    "#\n",
    "#setup registers\n",
    "q =QuantumRegister(n,\"database\")  # quantum registers\n",
    "o =QuantumRegister(1,\"oracle\")  # quantum registers\n",
    "w =QuantumRegister(n-1,\"ancillas\")  # work space\n",
    "c =ClassicalRegister(n,\"outcomes\")  # classical register (for measurement outcomes)\n",
    "#pick random winner\n",
    "winner=np.binary_repr(np.random.randint(2**n),n)\n",
    "#QISKit parameters\n",
    "N_shots=1000\n",
    "#\n",
    "# END SETUP\n",
    "\n",
    "\n",
    "for grover_steps in range(max_steps):\n",
    "    \n",
    "    #RESET QISKIT\n",
    "    cirname= 'grover'+str(grover_steps)\n",
    "    #qp=QuantumProgram()                         \n",
    "    qcir=QuantumCircuit(q,o,w,c)\n",
    "    #END RESET QISKIT    \n",
    "        \n",
    "    \n",
    "    qcir=init_state(qcir)    \n",
    "    \n",
    "    for k in range(grover_steps):\n",
    "        qcir=Rw(qcir,winner)\n",
    "        qcir=Rs(qcir)\n",
    "\n",
    "    #measure output (needed if we're not using the unitary generated)\n",
    "    for k in range(n):\n",
    "        qcir.measure(q[k],c[k])\n",
    "\n",
    "    #QISKIT ROUTINE\n",
    "    #qp.add_circuit(cirname,qcir)\n",
    "    #backend = BasicAer.get_backend('unitary_simulator') # the device to run on\n",
    "    backend = BasicAer.get_backend('qasm_simulator')\n",
    "    result= execute(qcir,backend=backend,shots=N_shots)\n",
    "\n",
    "    ## ANALYSIS SUBROUTINE\n",
    "    results_dict=result.result().get_counts()\n",
    "    pw=results_dict[winner]/N_shots\n",
    "    \n",
    "    #plot the probabilities\n",
    "    plot_histogram(results_dict)\n",
    "    \n",
    "    #report probability and expectation values\n",
    "    print(cirname,\": pw=\",pw,\" and pw_expected=\",p_win(grover_steps),\"\\n\")\n",
    "    \n",
    "    #plot the probabilities\n",
    "    #plot_histogram(results_dict)\n",
    "    ## END ANALYSIS SUBROUTINE\n",
    "    \n",
    "    #END QISKIT ROUTINE\n",
    "    \n"
   ]
  },
  {
   "cell_type": "code",
   "execution_count": 14,
   "metadata": {},
   "outputs": [
    {
     "name": "stdout",
     "output_type": "stream",
     "text": [
      "000\n"
     ]
    },
    {
     "data": {
      "image/png": "[encoded data removed]",
      "text/plain": [
       "<Figure size 504x360 with 1 Axes>"
      ]
     },
     "execution_count": 14,
     "metadata": {},
     "output_type": "execute_result"
    }
   ],
   "source": [
    "print(winner)\n",
    "\n",
    "plot_histogram(results_dict)"
   ]
  },
  {
   "cell_type": "code",
   "execution_count": 15,
   "metadata": {},
   "outputs": [
    {
     "name": "stdout",
     "output_type": "stream",
     "text": [
      "Total notebook runtime was  10.523730039596558  seconds for n= 3\n"
     ]
    }
   ],
   "source": [
    "end_time=time()  #time in seconds\n",
    "print(\"Total notebook runtime was \",end_time-start_time,\" seconds for n=\",n) "
   ]
  },
  {
   "cell_type": "markdown",
   "metadata": {},
   "source": [
    "# Notes\n",
    "Took 0 minutes 18 seconds at n=3  on MS Surface (2017)\n",
    "Took 5 minutes 51 seconds at n=4 on MS Surface (2017)\n",
    "\n",
    "James.D.Whitfield@dartmouth.edu : Physics 116 : Quantum information science : 2018"
   ]
  },
  {
   "cell_type": "code",
   "execution_count": null,
   "metadata": {},
   "outputs": [],
   "source": []
  }
 ],
 "metadata": {
  "kernelspec": {
   "display_name": "py36",
   "language": "python",
   "name": "py36"
  },
  "language_info": {
   "codemirror_mode": {
    "name": "ipython",
    "version": 3
   },
   "file_extension": ".py",
   "mimetype": "text/x-python",
   "name": "python",
   "nbconvert_exporter": "python",
   "pygments_lexer": "ipython3",
   "version": "3.6.9"
  }
 },
 "nbformat": 4,
 "nbformat_minor": 2
}
